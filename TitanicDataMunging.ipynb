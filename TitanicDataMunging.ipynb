{
 "cells": [
  {
   "cell_type": "code",
   "execution_count": 58,
   "metadata": {
    "collapsed": false
   },
   "outputs": [
    {
     "data": {
      "text/html": [
       "\n",
       "    <div class=\"bk-root\">\n",
       "        <a href=\"http://bokeh.pydata.org\" target=\"_blank\" class=\"bk-logo bk-logo-small bk-logo-notebook\"></a>\n",
       "        <span id=\"d554cd54-94e4-4d0c-ac2e-a8ddf3764aeb\">Loading BokehJS ...</span>\n",
       "    </div>"
      ]
     },
     "metadata": {},
     "output_type": "display_data"
    },
    {
     "data": {
      "application/javascript": [
       "\n",
       "(function(global) {\n",
       "  function now() {\n",
       "    return new Date();\n",
       "  }\n",
       "\n",
       "  if (typeof (window._bokeh_onload_callbacks) === \"undefined\") {\n",
       "    window._bokeh_onload_callbacks = [];\n",
       "  }\n",
       "\n",
       "  function run_callbacks() {\n",
       "    window._bokeh_onload_callbacks.forEach(function(callback) { callback() });\n",
       "    delete window._bokeh_onload_callbacks\n",
       "    console.info(\"Bokeh: all callbacks have finished\");\n",
       "  }\n",
       "\n",
       "  function load_libs(js_urls, callback) {\n",
       "    window._bokeh_onload_callbacks.push(callback);\n",
       "    if (window._bokeh_is_loading > 0) {\n",
       "      console.log(\"Bokeh: BokehJS is being loaded, scheduling callback at\", now());\n",
       "      return null;\n",
       "    }\n",
       "    if (js_urls == null || js_urls.length === 0) {\n",
       "      run_callbacks();\n",
       "      return null;\n",
       "    }\n",
       "    console.log(\"Bokeh: BokehJS not loaded, scheduling load and callback at\", now());\n",
       "    window._bokeh_is_loading = js_urls.length;\n",
       "    for (var i = 0; i < js_urls.length; i++) {\n",
       "      var url = js_urls[i];\n",
       "      var s = document.createElement('script');\n",
       "      s.src = url;\n",
       "      s.async = false;\n",
       "      s.onreadystatechange = s.onload = function() {\n",
       "        window._bokeh_is_loading--;\n",
       "        if (window._bokeh_is_loading === 0) {\n",
       "          console.log(\"Bokeh: all BokehJS libraries loaded\");\n",
       "          run_callbacks()\n",
       "        }\n",
       "      };\n",
       "      s.onerror = function() {\n",
       "        console.warn(\"failed to load library \" + url);\n",
       "      };\n",
       "      console.log(\"Bokeh: injecting script tag for BokehJS library: \", url);\n",
       "      document.getElementsByTagName(\"head\")[0].appendChild(s);\n",
       "    }\n",
       "  };\n",
       "\n",
       "  var js_urls = ['https://cdn.pydata.org/bokeh/release/bokeh-0.12.0.min.js', 'https://cdn.pydata.org/bokeh/release/bokeh-widgets-0.12.0.min.js', 'https://cdn.pydata.org/bokeh/release/bokeh-compiler-0.12.0.min.js'];\n",
       "\n",
       "  var inline_js = [\n",
       "    function(Bokeh) {\n",
       "      Bokeh.set_log_level(\"info\");\n",
       "    },\n",
       "    \n",
       "    function(Bokeh) {\n",
       "      Bokeh.$(\"#d554cd54-94e4-4d0c-ac2e-a8ddf3764aeb\").text(\"BokehJS successfully loaded\");\n",
       "    },\n",
       "    function(Bokeh) {\n",
       "      console.log(\"Bokeh: injecting CSS: https://cdn.pydata.org/bokeh/release/bokeh-0.12.0.min.css\");\n",
       "      Bokeh.embed.inject_css(\"https://cdn.pydata.org/bokeh/release/bokeh-0.12.0.min.css\");\n",
       "      console.log(\"Bokeh: injecting CSS: https://cdn.pydata.org/bokeh/release/bokeh-widgets-0.12.0.min.css\");\n",
       "      Bokeh.embed.inject_css(\"https://cdn.pydata.org/bokeh/release/bokeh-widgets-0.12.0.min.css\");\n",
       "    }\n",
       "  ];\n",
       "\n",
       "  function run_inline_js() {\n",
       "    for (var i = 0; i < inline_js.length; i++) {\n",
       "      inline_js[i](window.Bokeh);\n",
       "    }\n",
       "  }\n",
       "\n",
       "  if (window._bokeh_is_loading === 0) {\n",
       "    console.log(\"Bokeh: BokehJS loaded, going straight to plotting\");\n",
       "    run_inline_js();\n",
       "  } else {\n",
       "    load_libs(js_urls, function() {\n",
       "      console.log(\"Bokeh: BokehJS plotting callback run at\", now());\n",
       "      run_inline_js();\n",
       "    });\n",
       "  }\n",
       "}(this));"
      ]
     },
     "metadata": {},
     "output_type": "display_data"
    }
   ],
   "source": [
    "import numpy as np\n",
    "#import matplotlib.pyplot as plt\n",
    "import pandas as pd\n",
    "#%matplotlib inline\n",
    "\n",
    "from ipywidgets import interact\n",
    "from IPython.display import display\n",
    "\n",
    "from bokeh.io import push_notebook, show, output_notebook\n",
    "from bokeh.plotting import figure\n",
    "from bokeh.models import FixedTicker\n",
    "from bokeh.charts import Bar\n",
    "output_notebook()"
   ]
  },
  {
   "cell_type": "code",
   "execution_count": 59,
   "metadata": {
    "collapsed": true
   },
   "outputs": [],
   "source": [
    "#read data\n",
    "train = pd.read_csv(\"/Users/miceli/Data/Titanic/train.csv\")\n",
    "#print train.columns\n",
    "train.fillna(value=-1,inplace=True)"
   ]
  },
  {
   "cell_type": "code",
   "execution_count": 60,
   "metadata": {
    "collapsed": false
   },
   "outputs": [
    {
     "name": "stdout",
     "output_type": "stream",
     "text": [
      "Index([u'Survived', u'Pclass', u'Name', u'Sex', u'Age', u'SibSp', u'Parch',\n",
      "       u'Ticket', u'Fare', u'Cabin', u'Embarked'],\n",
      "      dtype='object')\n"
     ]
    }
   ],
   "source": [
    "#PassengerId: remove this! This is an arbitrary variable\n",
    "#it was added later for communicating the data, it does\n",
    "#not have any meaning\n",
    "\n",
    "trainClean = train.drop('PassengerId',1)\n",
    "print trainClean.columns"
   ]
  },
  {
   "cell_type": "code",
   "execution_count": 61,
   "metadata": {
    "collapsed": false
   },
   "outputs": [],
   "source": [
    "#Survived 0=died 1=lived, no manipulations required\n",
    "#Pclass: passenger class, 1, 2, 3: no manipulations required\n",
    "#Name: add some variables and drop Name\n",
    "\n",
    "Namelength = []\n",
    "Namecapitals = []\n",
    "\n",
    "for n in train.Name:\n",
    "    Namelength.append(len(n))\n",
    "    \n",
    "    numOfUpperCase = 0\n",
    "    for c in n:\n",
    "        if c.isupper():\n",
    "            numOfUpperCase = numOfUpperCase + 1\n",
    "    Namecapitals.append(numOfUpperCase)\n",
    "    \n",
    "trainClean['NameLength']=pd.Series(Namelength)\n",
    "trainClean['NameCapitals']=pd.Series(Namecapitals)\n",
    "trainClean = trainClean.drop('Name',1)\n",
    "#print trainClean.columns\n",
    "\n"
   ]
  },
  {
   "cell_type": "code",
   "execution_count": 62,
   "metadata": {
    "collapsed": false
   },
   "outputs": [],
   "source": [
    "#Sex: male, female -> enumerate this:\n",
    "dummies = pd.get_dummies(trainClean['Sex'])\n",
    "#dummies.drop(['male'],inplace=True,axis=1)\n",
    "trainClean = pd.concat([trainClean,dummies], axis=1)\n",
    "trainClean.drop(['Sex','male'], inplace=True, axis=1)\n",
    "#print trainClean"
   ]
  },
  {
   "cell_type": "code",
   "execution_count": 63,
   "metadata": {
    "collapsed": false
   },
   "outputs": [],
   "source": [
    "#Age: make a bool HasAge\n",
    "Hasage=[]\n",
    "\n",
    "for n in trainClean.Age:\n",
    "    if n<0:\n",
    "        Hasage.append(0)\n",
    "    else:\n",
    "        Hasage.append(1)\n",
    "trainClean['HasAge']=pd.Series(Hasage)\n"
   ]
  },
  {
   "cell_type": "code",
   "execution_count": 64,
   "metadata": {
    "collapsed": true
   },
   "outputs": [],
   "source": [
    "#SibSp: number of siblings or spouses aboard -> no manipulation required(0-8)\n",
    "#Parch: number of parents or children aboard -> no manipulation required (0-6)\n",
    "#Ticket: make auxiliary variables and drop Ticket\n",
    "\n",
    "Lengthticketnumber = []\n",
    "Alphaticketnumber = []\n",
    "for t in trainClean.Ticket:\n",
    "    Lengthticketnumber.append(len(t))\n",
    "    if any(c.isalpha() for c in t):\n",
    "        Alphaticketnumber.append(1)\n",
    "    else:\n",
    "        Alphaticketnumber.append(0)\n",
    "    \n",
    "trainClean['LengthTicketNumber']=pd.Series(Lengthticketnumber)\n",
    "trainClean['AlphaTicketNumber']=pd.Series(Alphaticketnumber)\n",
    "trainClean.drop(['Ticket'], inplace=True, axis=1)\n"
   ]
  },
  {
   "cell_type": "code",
   "execution_count": 65,
   "metadata": {
    "collapsed": false
   },
   "outputs": [],
   "source": [
    "#Fare: no change needed 0,~650\n",
    "#Cabin: determine cabin letter, map to number, and throw out this variable\n",
    "Hascabinletter = []\n",
    "Cabinletter = []\n",
    "\n",
    "for c in trainClean.Cabin:\n",
    "    if -1==c:\n",
    "        Cabinletter.append(-1)\n",
    "        Hascabinletter.append(0)\n",
    "    else:\n",
    "        Hascabinletter.append(1)\n",
    "        if \"A\" in c:\n",
    "            Cabinletter.append(1)\n",
    "        elif \"B\" in c:\n",
    "            Cabinletter.append(2)\n",
    "        elif \"C\" in c:\n",
    "            Cabinletter.append(3)\n",
    "        elif \"D\" in c:\n",
    "            Cabinletter.append(4)\n",
    "        elif \"E\" in c:\n",
    "            Cabinletter.append(5)\n",
    "        elif \"F\" in c:\n",
    "            Cabinletter.append(6)\n",
    "        elif \"G\" in c:\n",
    "            Cabinletter.append(7)\n",
    "        elif \"T\" in c:\n",
    "            Cabinletter.append(0)\n",
    "\n",
    "trainClean['HasCabinLetter']=pd.Series(Hascabinletter)\n",
    "trainClean['CabinLetter']=pd.Series(Cabinletter)\n",
    "trainClean.drop(['Cabin'], inplace=True, axis=1)"
   ]
  },
  {
   "cell_type": "code",
   "execution_count": 67,
   "metadata": {
    "collapsed": false
   },
   "outputs": [],
   "source": [
    "#Embarked: C = Cherbourg; Q = Queenstown; S = Southampton:\n",
    "# ->change to 1 = Cherbourg; 2 = Queenstown; 3 = Southampton\n",
    "\n",
    "Embarkednum=[]\n",
    "\n",
    "for e in trainClean.Embarked:\n",
    "    if -1==e:\n",
    "        Embarkednum.append(-1)\n",
    "    elif \"C\" in e:\n",
    "        Embarkednum.append(1)\n",
    "    elif \"Q\" in e:\n",
    "        Embarkednum.append(2)\n",
    "    else:\n",
    "        Embarkednum.append(3)\n",
    "\n",
    "trainClean['EmbarkedNum']=pd.Series(Embarkednum)\n",
    "trainClean.drop(['Embarked'], inplace=True, axis=1)\n",
    "        "
   ]
  },
  {
   "cell_type": "code",
   "execution_count": 70,
   "metadata": {
    "collapsed": false
   },
   "outputs": [],
   "source": [
    "trainClean.to_csv(\"/Users/miceli/Data/Titanic/CleanedTItanicTrainSet.csv\")"
   ]
  },
  {
   "cell_type": "code",
   "execution_count": null,
   "metadata": {
    "collapsed": true
   },
   "outputs": [],
   "source": []
  }
 ],
 "metadata": {
  "kernelspec": {
   "display_name": "Python 2",
   "language": "python",
   "name": "python2"
  },
  "language_info": {
   "codemirror_mode": {
    "name": "ipython",
    "version": 2
   },
   "file_extension": ".py",
   "mimetype": "text/x-python",
   "name": "python",
   "nbconvert_exporter": "python",
   "pygments_lexer": "ipython2",
   "version": "2.7.11"
  },
  "widgets": {
   "state": {},
   "version": "1.1.2"
  }
 },
 "nbformat": 4,
 "nbformat_minor": 0
}
