{
 "cells": [
  {
   "cell_type": "code",
   "execution_count": 209,
   "metadata": {
    "collapsed": false
   },
   "outputs": [
    {
     "data": {
      "text/html": [
       "\n",
       "    <div class=\"bk-root\">\n",
       "        <a href=\"http://bokeh.pydata.org\" target=\"_blank\" class=\"bk-logo bk-logo-small bk-logo-notebook\"></a>\n",
       "        <span id=\"5f837885-cc1d-49f0-a159-0975028dd24b\">Loading BokehJS ...</span>\n",
       "    </div>"
      ]
     },
     "metadata": {},
     "output_type": "display_data"
    },
    {
     "data": {
      "application/javascript": [
       "\n",
       "(function(global) {\n",
       "  function now() {\n",
       "    return new Date();\n",
       "  }\n",
       "\n",
       "  if (typeof (window._bokeh_onload_callbacks) === \"undefined\") {\n",
       "    window._bokeh_onload_callbacks = [];\n",
       "  }\n",
       "\n",
       "  function run_callbacks() {\n",
       "    window._bokeh_onload_callbacks.forEach(function(callback) { callback() });\n",
       "    delete window._bokeh_onload_callbacks\n",
       "    console.info(\"Bokeh: all callbacks have finished\");\n",
       "  }\n",
       "\n",
       "  function load_libs(js_urls, callback) {\n",
       "    window._bokeh_onload_callbacks.push(callback);\n",
       "    if (window._bokeh_is_loading > 0) {\n",
       "      console.log(\"Bokeh: BokehJS is being loaded, scheduling callback at\", now());\n",
       "      return null;\n",
       "    }\n",
       "    if (js_urls == null || js_urls.length === 0) {\n",
       "      run_callbacks();\n",
       "      return null;\n",
       "    }\n",
       "    console.log(\"Bokeh: BokehJS not loaded, scheduling load and callback at\", now());\n",
       "    window._bokeh_is_loading = js_urls.length;\n",
       "    for (var i = 0; i < js_urls.length; i++) {\n",
       "      var url = js_urls[i];\n",
       "      var s = document.createElement('script');\n",
       "      s.src = url;\n",
       "      s.async = false;\n",
       "      s.onreadystatechange = s.onload = function() {\n",
       "        window._bokeh_is_loading--;\n",
       "        if (window._bokeh_is_loading === 0) {\n",
       "          console.log(\"Bokeh: all BokehJS libraries loaded\");\n",
       "          run_callbacks()\n",
       "        }\n",
       "      };\n",
       "      s.onerror = function() {\n",
       "        console.warn(\"failed to load library \" + url);\n",
       "      };\n",
       "      console.log(\"Bokeh: injecting script tag for BokehJS library: \", url);\n",
       "      document.getElementsByTagName(\"head\")[0].appendChild(s);\n",
       "    }\n",
       "  };\n",
       "\n",
       "  var js_urls = ['https://cdn.pydata.org/bokeh/release/bokeh-0.12.0.min.js', 'https://cdn.pydata.org/bokeh/release/bokeh-widgets-0.12.0.min.js', 'https://cdn.pydata.org/bokeh/release/bokeh-compiler-0.12.0.min.js'];\n",
       "\n",
       "  var inline_js = [\n",
       "    function(Bokeh) {\n",
       "      Bokeh.set_log_level(\"info\");\n",
       "    },\n",
       "    \n",
       "    function(Bokeh) {\n",
       "      Bokeh.$(\"#5f837885-cc1d-49f0-a159-0975028dd24b\").text(\"BokehJS successfully loaded\");\n",
       "    },\n",
       "    function(Bokeh) {\n",
       "      console.log(\"Bokeh: injecting CSS: https://cdn.pydata.org/bokeh/release/bokeh-0.12.0.min.css\");\n",
       "      Bokeh.embed.inject_css(\"https://cdn.pydata.org/bokeh/release/bokeh-0.12.0.min.css\");\n",
       "      console.log(\"Bokeh: injecting CSS: https://cdn.pydata.org/bokeh/release/bokeh-widgets-0.12.0.min.css\");\n",
       "      Bokeh.embed.inject_css(\"https://cdn.pydata.org/bokeh/release/bokeh-widgets-0.12.0.min.css\");\n",
       "    }\n",
       "  ];\n",
       "\n",
       "  function run_inline_js() {\n",
       "    for (var i = 0; i < inline_js.length; i++) {\n",
       "      inline_js[i](window.Bokeh);\n",
       "    }\n",
       "  }\n",
       "\n",
       "  if (window._bokeh_is_loading === 0) {\n",
       "    console.log(\"Bokeh: BokehJS loaded, going straight to plotting\");\n",
       "    run_inline_js();\n",
       "  } else {\n",
       "    load_libs(js_urls, function() {\n",
       "      console.log(\"Bokeh: BokehJS plotting callback run at\", now());\n",
       "      run_inline_js();\n",
       "    });\n",
       "  }\n",
       "}(this));"
      ]
     },
     "metadata": {},
     "output_type": "display_data"
    }
   ],
   "source": [
    "import numpy as np\n",
    "#import matplotlib.pyplot as plt\n",
    "import pandas as pd\n",
    "#%matplotlib inline\n",
    "\n",
    "import scipy as sp\n",
    "#from scipy.special import expit\n",
    "\n",
    "from sklearn import tree\n",
    "\n",
    "\n",
    "from ipywidgets import interact\n",
    "from IPython.display import display\n",
    "\n",
    "from bokeh.io import push_notebook, show, output_notebook\n",
    "from bokeh.plotting import figure\n",
    "from bokeh.models import FixedTicker\n",
    "from bokeh.charts import Bar\n",
    "output_notebook()"
   ]
  },
  {
   "cell_type": "code",
   "execution_count": 210,
   "metadata": {
    "collapsed": false
   },
   "outputs": [],
   "source": [
    "#return J and gradient, inputs are nump arrays/matrix\n",
    "def costFunction(theta,*args):\n",
    "    X,y = args\n",
    "    #print \"theta.shape = \" + str(theta.shape)\n",
    "    m_numSamples = len(y)\n",
    "    \n",
    "    #initialize return values\n",
    "    J = 0\n",
    "    grad = np.zeros(len(theta))\n",
    "\n",
    "    Xnp = X.as_matrix()\n",
    "    #print \"Xnp.shape = \" + str(Xnp.shape)\n",
    "    \n",
    "    z = np.dot(Xnp,theta)\n",
    "    #print \"z.shape = \" + str(z.shape)\n",
    "    \n",
    "    h=sp.special.expit(z)\n",
    "    #print \"h.shape = \" + str(h.shape)\n",
    "    \n",
    "    for idx,yi in enumerate(y):\n",
    "        J = J + yi*np.log(h[idx]) + (1.0 - yi)*np.log(1.0 - h[idx])\n",
    "\n",
    "    J= -1.0*J/m_numSamples\n",
    "    #print \"J.shape = \" + str(J.shape)\n",
    "\n",
    "    #grad = (1.0/m_numSamples)*np.dot(np.transpose(Xnp),(h-y))\n",
    "    #print grad.shape\n",
    "    #print \"J = \" + str(J)\n",
    "    return J\n",
    "\n",
    "def gradient(theta,*args):\n",
    "    X,y = args\n",
    "    m_numSamples = len(y)\n",
    "    \n",
    "    #initialize return values\n",
    "    J = 0\n",
    "    grad = np.zeros(len(theta))\n",
    "    \n",
    "    Xnp = X.as_matrix()\n",
    "    \n",
    "    z = np.dot(Xnp,theta)\n",
    "    h=sp.special.expit(z)\n",
    "\n",
    "    grad = (1.0/m_numSamples)*np.dot(np.transpose(Xnp),(h-y))\n",
    "    return grad\n",
    "    "
   ]
  },
  {
   "cell_type": "code",
   "execution_count": 211,
   "metadata": {
    "collapsed": true
   },
   "outputs": [],
   "source": [
    "def predict(theta,X):\n",
    "    m_numSamples = len(X)\n",
    "    prediction = np.zeros(m_numSamples)\n",
    "    \n",
    "    Xnp = X.as_matrix()\n",
    "    \n",
    "    s = sp.special.expit(np.dot(Xnp,theta))\n",
    "    \n",
    "    for i,pred in enumerate(s):\n",
    "        if pred >=0.5:\n",
    "            prediction[i]=1\n",
    "    \n",
    "    return prediction"
   ]
  },
  {
   "cell_type": "code",
   "execution_count": 212,
   "metadata": {
    "collapsed": false
   },
   "outputs": [
    {
     "name": "stdout",
     "output_type": "stream",
     "text": [
      "Index([u'Survived', u'Pclass', u'Age', u'SibSp', u'Parch', u'Fare',\n",
      "       u'NameLength', u'NameCapitals', u'female', u'HasAge',\n",
      "       u'LengthTicketNumber', u'AlphaTicketNumber', u'HasCabinLetter',\n",
      "       u'CabinLetter', u'EmbarkedNum'],\n",
      "      dtype='object')\n"
     ]
    }
   ],
   "source": [
    "trainClean = pd.read_csv(\"/Users/miceli/Data/Titanic/CleanedTItanicDivided_TRAIN.csv\")\n",
    "cvClean = pd.read_csv(\"/Users/miceli/Data/Titanic/CleanedTItanicDivided_CV.csv\")\n",
    "trainClean.drop(['Unnamed: 0'], inplace=True, axis=1)\n",
    "cvClean.drop(['Unnamed: 0'], inplace=True, axis=1)\n",
    "print trainClean.columns"
   ]
  },
  {
   "cell_type": "code",
   "execution_count": 213,
   "metadata": {
    "collapsed": false
   },
   "outputs": [],
   "source": [
    "#store the features in X\n",
    "X = trainClean.drop('Survived',1)\n",
    "X_cv = cvClean.drop('Survived',1)\n",
    "#X = trainClean[['female','Pclass']]\n",
    "#print X\n",
    "\n",
    "m_numSamples, n_numFeatures = X.shape\n",
    "\n",
    "#store the label in y\n",
    "y = trainClean['Survived']\n",
    "y_cv = cvClean['Survived']"
   ]
  },
  {
   "cell_type": "code",
   "execution_count": 214,
   "metadata": {
    "collapsed": false
   },
   "outputs": [
    {
     "name": "stdout",
     "output_type": "stream",
     "text": [
      "Index([u'Pclass', u'Age', u'SibSp', u'Parch', u'Fare', u'NameLength',\n",
      "       u'NameCapitals', u'female', u'HasAge', u'LengthTicketNumber',\n",
      "       u'AlphaTicketNumber', u'HasCabinLetter', u'CabinLetter', u'EmbarkedNum',\n",
      "       u'intercept'],\n",
      "      dtype='object')\n"
     ]
    }
   ],
   "source": [
    "#add column for intercept in X:\n",
    "intercept = np.ones(m_numSamples)\n",
    "X = X.assign(intercept = pd.Series(intercept) )\n",
    "X_cv = X_cv.assign(intercept = pd.Series(intercept) )\n",
    "print X.columns"
   ]
  },
  {
   "cell_type": "code",
   "execution_count": 215,
   "metadata": {
    "collapsed": true
   },
   "outputs": [],
   "source": [
    "#initialize fit parameters\n",
    "initial_theta = np.zeros(n_numFeatures+1)"
   ]
  },
  {
   "cell_type": "code",
   "execution_count": 219,
   "metadata": {
    "collapsed": false
   },
   "outputs": [
    {
     "name": "stdout",
     "output_type": "stream",
     "text": [
      "Optimization terminated successfully.\n",
      "         Current function value: 0.414672\n",
      "         Iterations: 1256\n",
      "         Function evaluations: 2389\n",
      "         Gradient evaluations: 2389\n"
     ]
    }
   ],
   "source": [
    "xopt, fopt, func_calls, grad_calls, warnflag = sp.optimize.fmin_cg(f=costFunction, \\\n",
    "                                                                    fprime=gradient, \\\n",
    "                                                                    args=(X,y), \\\n",
    "                                                                    x0=initial_theta, \\\n",
    "                                                                    maxiter=2000 ,\\\n",
    "                                                                    epsilon=1.49e-12,\\\n",
    "                                                                    full_output=True)"
   ]
  },
  {
   "cell_type": "code",
   "execution_count": 220,
   "metadata": {
    "collapsed": false
   },
   "outputs": [
    {
     "name": "stdout",
     "output_type": "stream",
     "text": [
      "theta = [ -9.04617142e-01  -4.78329933e-02  -4.55075914e-01  -1.34158595e-01\n",
      "   1.85067325e-03   3.22370377e-02   4.67371768e-02   2.67146498e+00\n",
      "   1.62429675e+00   3.03455504e-02  -3.83201728e-01  -4.43798942e-01\n",
      "   2.22838283e-01  -3.51023485e-01   3.70466367e-01]\n",
      "cost = 0.41467204674\n"
     ]
    }
   ],
   "source": [
    "print \"theta = \" + str(xopt)\n",
    "print \"cost = \" + str(fopt)\n",
    "theta = xopt"
   ]
  },
  {
   "cell_type": "code",
   "execution_count": 231,
   "metadata": {
    "collapsed": false
   },
   "outputs": [
    {
     "name": "stdout",
     "output_type": "stream",
     "text": [
      "survived_predSurvived = 90\n",
      "survived_predDied = 31\n",
      "died_predSurvived = 29\n",
      "died_predDied = 147\n"
     ]
    }
   ],
   "source": [
    "prediction = predict(theta,X_cv)\n",
    "survived_predSurvived=0\n",
    "survived_predDied=0\n",
    "died_predSurvived=0\n",
    "died_predDied=0\n",
    "#ans = y_cv.as_matrix()\n",
    "#print ans\n",
    "for i,answer in enumerate(y_cv):\n",
    "    if answer == 1: #survived\n",
    "        if prediction[i] == 1: #predicted survived\n",
    "            survived_predSurvived += 1\n",
    "        else: #predicted died\n",
    "            survived_predDied += 1\n",
    "    else: #died\n",
    "        if prediction[i]==1: #predicted survived\n",
    "            died_predSurvived += 1\n",
    "        else: #predicted died\n",
    "            died_predDied += 1\n",
    "            \n",
    "        \n",
    "print \"survived_predSurvived = \" + str(survived_predSurvived)\n",
    "print \"survived_predDied = \" + str(survived_predDied)\n",
    "print \"died_predSurvived = \" + str(died_predSurvived)\n",
    "print \"died_predDied = \" + str(died_predDied)\n"
   ]
  },
  {
   "cell_type": "code",
   "execution_count": 233,
   "metadata": {
    "collapsed": false
   },
   "outputs": [
    {
     "name": "stdout",
     "output_type": "stream",
     "text": [
      "accuracySurvival = 0.743801652893\n",
      "accuracyDied = 0.835227272727\n"
     ]
    }
   ],
   "source": [
    "accuracySurvival = float(survived_predSurvived)/(survived_predSurvived + survived_predDied)\n",
    "accuracyDied = float(died_predDied)/(died_predDied + died_predSurvived)\n",
    "print \"accuracySurvival = \" + str(accuracySurvival)\n",
    "print \"accuracyDied = \" + str(accuracyDied)"
   ]
  },
  {
   "cell_type": "code",
   "execution_count": null,
   "metadata": {
    "collapsed": true
   },
   "outputs": [],
   "source": []
  }
 ],
 "metadata": {
  "kernelspec": {
   "display_name": "Python 2",
   "language": "python",
   "name": "python2"
  },
  "language_info": {
   "codemirror_mode": {
    "name": "ipython",
    "version": 2
   },
   "file_extension": ".py",
   "mimetype": "text/x-python",
   "name": "python",
   "nbconvert_exporter": "python",
   "pygments_lexer": "ipython2",
   "version": "2.7.11"
  },
  "widgets": {
   "state": {},
   "version": "1.1.2"
  }
 },
 "nbformat": 4,
 "nbformat_minor": 0
}
